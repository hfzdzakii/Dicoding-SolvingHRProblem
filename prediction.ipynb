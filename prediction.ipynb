{
 "cells": [
  {
   "cell_type": "code",
   "execution_count": 1,
   "id": "497f82c2",
   "metadata": {},
   "outputs": [
    {
     "name": "stderr",
     "output_type": "stream",
     "text": [
      "/home/hafizh/miniconda3/envs/MainCuda/lib/python3.12/site-packages/tqdm/auto.py:21: TqdmWarning: IProgress not found. Please update jupyter and ipywidgets. See https://ipywidgets.readthedocs.io/en/stable/user_install.html\n",
      "  from .autonotebook import tqdm as notebook_tqdm\n"
     ]
    }
   ],
   "source": [
    "import gradio as gr\n",
    "import pickle"
   ]
  },
  {
   "cell_type": "code",
   "execution_count": 2,
   "id": "9873c668",
   "metadata": {},
   "outputs": [],
   "source": [
    "with open(f\"./model/carrer_growth_matters_model.pkl\", \"rb\") as f:\n",
    "    carrer_growth_matters_model = pickle.load(f)\n",
    "with open(f\"./model/company_matters_model.pkl\", \"rb\") as g:\n",
    "    company_matters_model = pickle.load(g)\n",
    "with open(f\"./model/compensation_matters_model.pkl\", \"rb\") as h:\n",
    "    compensation_matters_model = pickle.load(h)\n",
    "with open(f\"./model/scaler.pkl\", \"rb\") as j:\n",
    "    scaler = pickle.load(j)\n"
   ]
  },
  {
   "cell_type": "code",
   "execution_count": 3,
   "id": "bd5d066e",
   "metadata": {},
   "outputs": [],
   "source": [
    "def get_stock_mapping(stock):\n",
    "    stock_mapping = {\n",
    "        \"None\" : 0,\n",
    "        \"Low\" : 1,\n",
    "        \"Medium\" : 2,\n",
    "        \"High\" : 3,\n",
    "    }\n",
    "    return stock_mapping.get(stock, -1)\n",
    "\n",
    "def get_environment_satisfaction_mapping(environment):\n",
    "    environment_satisfaction_mapping = {\n",
    "        \"Low\": 0,\n",
    "        \"Medium\": 1,\n",
    "        \"High\": 2,\n",
    "        \"Very High\": 3\n",
    "    }\n",
    "    return environment_satisfaction_mapping.get(environment, -1)\n",
    "\n",
    "def get_job_satisfaction_mapping(job):\n",
    "    job_satisfaction_mapping = {\n",
    "        \"Low\": 0,\n",
    "        \"Medium\": 1,\n",
    "        \"High\": 2,\n",
    "        \"Very High\": 3\n",
    "    }\n",
    "    return job_satisfaction_mapping.get(job, -1)\n",
    "\n",
    "def get_over_time_mapping(over_time):\n",
    "    over_time_mapping = {\n",
    "        \"No\": 0,\n",
    "        \"Yes\": 1\n",
    "    }\n",
    "    return over_time_mapping.get(over_time, -1)\n",
    "\n",
    "def get_relation_satisfaction_mapping(relation):\n",
    "    relation_satisfaction_mapping = {\n",
    "        \"Low\": 0,\n",
    "        \"Medium\": 1,\n",
    "        \"High\": 2,\n",
    "        \"Very High\": 3\n",
    "    }\n",
    "    return relation_satisfaction_mapping.get(relation, -1)\n",
    "\n",
    "def predict_attrition(_compensation, _company, _career_growth, \n",
    "        _monthly_income, _stock_option_level,\n",
    "        _environment_satisfaction, \n",
    "        _job_satisfaction, _over_time, _relationship_satisfaction, \n",
    "        _total_working_years, years_in_current_role,\n",
    "        _years_since_last_promotion):\n",
    "    scaled_data = scaler.transform([[0, 0, 0, \n",
    "                                    0, _monthly_income, 0, \n",
    "                                    0, 0, _total_working_years, \n",
    "                                    0, 0, years_in_current_role, \n",
    "                                    _years_since_last_promotion, 0]])\n",
    "    weights = {\"compensation\": 0.375,\n",
    "                \"career_growth\": 0.325,\n",
    "                \"company\": 0.30,\n",
    "                }\n",
    "    votes = {}\n",
    "    checked = {\"compensation\": 0,\n",
    "                \"career_growth\": 0,\n",
    "                \"company\": 0,\n",
    "                }\n",
    "    \n",
    "    if _compensation:\n",
    "        checked[\"compensation\"] = 1\n",
    "        monthly_income = scaled_data[0][4]\n",
    "        stock_option_level = get_stock_mapping(_stock_option_level)\n",
    "        compensation_prediction = compensation_matters_model.predict([[monthly_income, stock_option_level]])[0]\n",
    "        if compensation_prediction == 1:\n",
    "            votes[\"compensation\"] = 1\n",
    "    if _company:\n",
    "        checked[\"company\"] = 1\n",
    "        environment_satisfaction = get_environment_satisfaction_mapping(_environment_satisfaction)\n",
    "        job_satisfaction = get_job_satisfaction_mapping(_job_satisfaction)\n",
    "        over_time = get_over_time_mapping(_over_time)\n",
    "        relationship_satisfaction = get_relation_satisfaction_mapping(_relationship_satisfaction)\n",
    "        company_prediction = company_matters_model.predict([[environment_satisfaction, job_satisfaction, over_time, relationship_satisfaction]])[0]\n",
    "        if company_prediction == 1:\n",
    "            votes[\"company\"] = 1\n",
    "    if _career_growth:\n",
    "        checked[\"career_growth\"] = 1\n",
    "        total_working_years = scaled_data[0][8]\n",
    "        years_in_current_role = scaled_data[0][11]\n",
    "        years_since_last_promotion = scaled_data[0][12]\n",
    "        career_growth_prediction = carrer_growth_matters_model.predict([[years_since_last_promotion, total_working_years, years_in_current_role]])[0]\n",
    "        if career_growth_prediction == 1:\n",
    "            votes[\"career_growth\"] = 1\n",
    "    \n",
    "    if sum(checked.values()) == 0:\n",
    "        return \"Please check at least one checkbox to get the prediction!\"\n",
    "    \n",
    "    # if sum(checked.values()) % 2 == 0:\n",
    "    attrition_score = sum(weights[model] for model, vote in votes.items() if vote == 1)\n",
    "    no_attrition_score = sum(weights[model] for model, vote in votes.items() if vote == 0)\n",
    "    return \"The Employee might ATTRITION\" if attrition_score > no_attrition_score else \"Employee should STAY\"\n",
    "    # else:\n",
    "    #     is_attrition_true = len([value for key, value in votes.items() if value == 1])\n",
    "    #     is_attrition_false = len([value for key, value in votes.items() if value == 0])\n",
    "    #     return \"The Employee might ATTRITION\" if is_attrition_true > is_attrition_false else \"Employee should STAY\""
   ]
  },
  {
   "cell_type": "code",
   "execution_count": 4,
   "id": "fd981107",
   "metadata": {},
   "outputs": [
    {
     "name": "stdout",
     "output_type": "stream",
     "text": [
      "* Running on local URL:  http://127.0.0.1:7860\n",
      "\n",
      "To create a public link, set `share=True` in `launch()`.\n"
     ]
    },
    {
     "data": {
      "text/html": [
       "<div><iframe src=\"http://127.0.0.1:7860/\" width=\"100%\" height=\"500\" allow=\"autoplay; camera; microphone; clipboard-read; clipboard-write;\" frameborder=\"0\" allowfullscreen></iframe></div>"
      ],
      "text/plain": [
       "<IPython.core.display.HTML object>"
      ]
     },
     "metadata": {},
     "output_type": "display_data"
    },
    {
     "name": "stderr",
     "output_type": "stream",
     "text": [
      "/home/hafizh/miniconda3/envs/MainCuda/lib/python3.12/site-packages/sklearn/utils/validation.py:2739: UserWarning: X does not have valid feature names, but MinMaxScaler was fitted with feature names\n",
      "  warnings.warn(\n",
      "/home/hafizh/miniconda3/envs/MainCuda/lib/python3.12/site-packages/sklearn/utils/validation.py:2739: UserWarning: X does not have valid feature names, but MinMaxScaler was fitted with feature names\n",
      "  warnings.warn(\n",
      "/home/hafizh/miniconda3/envs/MainCuda/lib/python3.12/site-packages/sklearn/utils/validation.py:2739: UserWarning: X does not have valid feature names, but MinMaxScaler was fitted with feature names\n",
      "  warnings.warn(\n",
      "/home/hafizh/miniconda3/envs/MainCuda/lib/python3.12/site-packages/sklearn/utils/validation.py:2739: UserWarning: X does not have valid feature names, but MinMaxScaler was fitted with feature names\n",
      "  warnings.warn(\n",
      "/home/hafizh/miniconda3/envs/MainCuda/lib/python3.12/site-packages/sklearn/utils/validation.py:2739: UserWarning: X does not have valid feature names, but MinMaxScaler was fitted with feature names\n",
      "  warnings.warn(\n",
      "/home/hafizh/miniconda3/envs/MainCuda/lib/python3.12/site-packages/sklearn/utils/validation.py:2739: UserWarning: X does not have valid feature names, but MinMaxScaler was fitted with feature names\n",
      "  warnings.warn(\n",
      "/home/hafizh/miniconda3/envs/MainCuda/lib/python3.12/site-packages/sklearn/utils/validation.py:2739: UserWarning: X does not have valid feature names, but MinMaxScaler was fitted with feature names\n",
      "  warnings.warn(\n",
      "/home/hafizh/miniconda3/envs/MainCuda/lib/python3.12/site-packages/sklearn/utils/validation.py:2739: UserWarning: X does not have valid feature names, but MinMaxScaler was fitted with feature names\n",
      "  warnings.warn(\n",
      "/home/hafizh/miniconda3/envs/MainCuda/lib/python3.12/site-packages/sklearn/utils/validation.py:2739: UserWarning: X does not have valid feature names, but MinMaxScaler was fitted with feature names\n",
      "  warnings.warn(\n",
      "/home/hafizh/miniconda3/envs/MainCuda/lib/python3.12/site-packages/sklearn/utils/validation.py:2739: UserWarning: X does not have valid feature names, but MinMaxScaler was fitted with feature names\n",
      "  warnings.warn(\n",
      "/home/hafizh/miniconda3/envs/MainCuda/lib/python3.12/site-packages/sklearn/utils/validation.py:2739: UserWarning: X does not have valid feature names, but MinMaxScaler was fitted with feature names\n",
      "  warnings.warn(\n",
      "/home/hafizh/miniconda3/envs/MainCuda/lib/python3.12/site-packages/sklearn/utils/validation.py:2739: UserWarning: X does not have valid feature names, but MinMaxScaler was fitted with feature names\n",
      "  warnings.warn(\n",
      "/home/hafizh/miniconda3/envs/MainCuda/lib/python3.12/site-packages/sklearn/utils/validation.py:2739: UserWarning: X does not have valid feature names, but MinMaxScaler was fitted with feature names\n",
      "  warnings.warn(\n",
      "/home/hafizh/miniconda3/envs/MainCuda/lib/python3.12/site-packages/sklearn/utils/validation.py:2739: UserWarning: X does not have valid feature names, but MinMaxScaler was fitted with feature names\n",
      "  warnings.warn(\n",
      "/home/hafizh/miniconda3/envs/MainCuda/lib/python3.12/site-packages/sklearn/utils/validation.py:2739: UserWarning: X does not have valid feature names, but MinMaxScaler was fitted with feature names\n",
      "  warnings.warn(\n",
      "/home/hafizh/miniconda3/envs/MainCuda/lib/python3.12/site-packages/sklearn/utils/validation.py:2739: UserWarning: X does not have valid feature names, but MinMaxScaler was fitted with feature names\n",
      "  warnings.warn(\n",
      "/home/hafizh/miniconda3/envs/MainCuda/lib/python3.12/site-packages/sklearn/utils/validation.py:2739: UserWarning: X does not have valid feature names, but MinMaxScaler was fitted with feature names\n",
      "  warnings.warn(\n",
      "/home/hafizh/miniconda3/envs/MainCuda/lib/python3.12/site-packages/sklearn/utils/validation.py:2739: UserWarning: X does not have valid feature names, but MinMaxScaler was fitted with feature names\n",
      "  warnings.warn(\n",
      "/home/hafizh/miniconda3/envs/MainCuda/lib/python3.12/site-packages/sklearn/utils/validation.py:2739: UserWarning: X does not have valid feature names, but MinMaxScaler was fitted with feature names\n",
      "  warnings.warn(\n",
      "/home/hafizh/miniconda3/envs/MainCuda/lib/python3.12/site-packages/sklearn/utils/validation.py:2739: UserWarning: X does not have valid feature names, but MinMaxScaler was fitted with feature names\n",
      "  warnings.warn(\n"
     ]
    },
    {
     "name": "stdout",
     "output_type": "stream",
     "text": [
      "Keyboard interruption in main thread... closing server.\n"
     ]
    },
    {
     "data": {
      "text/plain": []
     },
     "execution_count": 4,
     "metadata": {},
     "output_type": "execute_result"
    }
   ],
   "source": [
    "with gr.Blocks(title=\"Employee Attrition Prediction\") as demo:\n",
    "    gr.Markdown(\"\"\"\n",
    "                # 📊 Employee Attrition Prediction\n",
    "                ## Dicoding - Solving HR Problem\n",
    "                ### Made by : Muhammad Hafizh Dzaki\n",
    "                ### Github Repo : [Here](https://github.com/hfzdzakii/Dicoding-SolvingHRProblem)\n",
    "                \"\"\")\n",
    "    with gr.Row():\n",
    "        with gr.Column():\n",
    "            gr.Markdown(\"\"\"Compensation Matter Variables\"\"\")\n",
    "            monthly_income = gr.Number(label=\"Monthly Income\", \n",
    "                                       value=0, minimum=0, precision=2)\n",
    "            stock_option_level = gr.Dropdown(label=\"Stock Option Level\", \n",
    "                                             choices=[\"None\", \"Low\", \"Medium\", \"High\"], \n",
    "                                             value=\"None\")\n",
    "            compensation = gr.Checkbox(label=\"Compensation Consideration Included?\", value=False)\n",
    "        with gr.Column():\n",
    "            gr.Markdown(\"\"\"Company Matter Variables\"\"\")\n",
    "            environment_satisfaction = gr.Dropdown(label=\"Environment Satisfaction\",\n",
    "                                            choices=[\"Low\", \"Medium\", \"High\", \"Very High\"], \n",
    "                                            value=\"Low\")\n",
    "            job_satisfaction = gr.Dropdown(label=\"Job Satisfaction\",\n",
    "                                            choices=[\"Low\", \"Medium\", \"High\", \"Very High\"], \n",
    "                                            value=\"Low\")\n",
    "            over_time = gr.Radio(label=\"Working Over Time?\",\n",
    "                                choices=[\"Yes\", \"No\"], value=\"No\")\n",
    "            relationship_satisfaction = gr.Dropdown(label=\"Relationship Satisfaction\",\n",
    "                                            choices=[\"Low\", \"Medium\", \"High\", \"Very High\"], \n",
    "                                            value=\"Low\")\n",
    "            company = gr.Checkbox(label=\"Company Consideration Included?\", value=False)\n",
    "        with gr.Column():\n",
    "            gr.Markdown(\"\"\"Employee's Carrer Growth Matter Variables\"\"\")\n",
    "            total_working_years = gr.Number(label=\"Total Working Years\",\n",
    "                                            value=0, minimum=0)\n",
    "            years_in_current_role = gr.Number(label=\"Years in Current Role\",\n",
    "                                         value=0, minimum=0)\n",
    "            years_since_last_promotion = gr.Number(label=\"Years Since Last Promotion\",\n",
    "                                                 value=0, minimum=0)\n",
    "            career_growth = gr.Checkbox(label=\"Career Growth Consideration Included?\", value=False)\n",
    "    \n",
    "    with gr.Row():\n",
    "        with gr.Column():\n",
    "            predict_btn = gr.Button(\"Predict\", variant=\"primary\")\n",
    "            prediction = gr.Textbox(label=\"Prediction\", interactive=False)\n",
    "            \n",
    "    predict_btn.click(\n",
    "        fn=predict_attrition,\n",
    "        inputs=[compensation, company, career_growth,\n",
    "                monthly_income, stock_option_level,\n",
    "                environment_satisfaction,\n",
    "                job_satisfaction, over_time, relationship_satisfaction,\n",
    "                total_working_years, years_in_current_role, \n",
    "                years_since_last_promotion\n",
    "                ],\n",
    "        outputs=prediction,\n",
    "    )\n",
    "\n",
    "demo.launch(debug=True)"
   ]
  },
  {
   "cell_type": "code",
   "execution_count": null,
   "id": "6d3544f6",
   "metadata": {},
   "outputs": [
    {
     "name": "stderr",
     "output_type": "stream",
     "text": [
      "/home/hafizh/miniconda3/envs/MainCuda/lib/python3.12/site-packages/sklearn/utils/validation.py:2739: UserWarning: X does not have valid feature names, but MinMaxScaler was fitted with feature names\n",
      "  warnings.warn(\n"
     ]
    },
    {
     "data": {
      "text/plain": [
       "array([[-0.4047619 , -0.07158196,  0.07142857, -0.37142857, -0.05286993,\n",
       "        -0.08383859,  0.77777778, -0.21428571,  0.225     ,  1.66666667,\n",
       "         0.275     ,  0.66666667,  0.86666667,  5.29411765]])"
      ]
     },
     "execution_count": 15,
     "metadata": {},
     "output_type": "execute_result"
    }
   ],
   "source": [
    "scaler.transform([[1,2,3,4,5,6,7,8,9,10,11,12,13,90]])"
   ]
  }
 ],
 "metadata": {
  "kernelspec": {
   "display_name": "MainCuda",
   "language": "python",
   "name": "python3"
  },
  "language_info": {
   "codemirror_mode": {
    "name": "ipython",
    "version": 3
   },
   "file_extension": ".py",
   "mimetype": "text/x-python",
   "name": "python",
   "nbconvert_exporter": "python",
   "pygments_lexer": "ipython3",
   "version": "3.12.9"
  }
 },
 "nbformat": 4,
 "nbformat_minor": 5
}
