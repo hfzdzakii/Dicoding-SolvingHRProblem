{
    "cells": [
        {
            "cell_type": "markdown",
            "metadata": {},
            "source": [
                "# Proyek Akhir: Menyelesaikan Permasalahan Perusahaan Jaya Jaya Maju"
            ]
        },
        {
            "cell_type": "markdown",
            "metadata": {},
            "source": [
                "- Nama: Muhammad Hafizh Dzaki\n",
                "- Email: muhammadhafizhdzaki@gmail.com\n",
                "- Id Dicoding: haztsu"
            ]
        },
        {
            "cell_type": "markdown",
            "metadata": {},
            "source": [
                "## Persiapan"
            ]
        },
        {
            "cell_type": "markdown",
            "metadata": {},
            "source": [
                "### Menyiapkan library yang dibutuhkan"
            ]
        },
        {
            "cell_type": "code",
            "execution_count": 35,
            "metadata": {},
            "outputs": [],
            "source": [
                "import pandas as pd\n",
                "import numpy as np\n",
                "import pickle\n",
                "import matplotlib.pyplot as plt\n",
                "import statsmodels.api as sm\n",
                "from xgboost import XGBClassifier\n",
                "from sklearn.tree import DecisionTreeClassifier\n",
                "from sklearn.ensemble import RandomForestClassifier\n",
                "from sklearn.linear_model import LogisticRegression\n",
                "from sklearn.preprocessing import LabelEncoder, MinMaxScaler\n",
                "from sklearn.model_selection import train_test_split\n",
                "from sklearn.metrics import accuracy_score, recall_score, precision_score, f1_score\n",
                "from imblearn.over_sampling import SMOTE, RandomOverSampler"
            ]
        },
        {
            "cell_type": "markdown",
            "metadata": {},
            "source": [
                "### Menyiapkan data yang akan diguankan"
            ]
        },
        {
            "cell_type": "markdown",
            "metadata": {},
            "source": [
                "## Data Understanding"
            ]
        },
        {
            "cell_type": "code",
            "execution_count": 36,
            "metadata": {},
            "outputs": [
                {
                    "data": {
                        "text/html": [
                            "<div>\n",
                            "<style scoped>\n",
                            "    .dataframe tbody tr th:only-of-type {\n",
                            "        vertical-align: middle;\n",
                            "    }\n",
                            "\n",
                            "    .dataframe tbody tr th {\n",
                            "        vertical-align: top;\n",
                            "    }\n",
                            "\n",
                            "    .dataframe thead th {\n",
                            "        text-align: right;\n",
                            "    }\n",
                            "</style>\n",
                            "<table border=\"1\" class=\"dataframe\">\n",
                            "  <thead>\n",
                            "    <tr style=\"text-align: right;\">\n",
                            "      <th></th>\n",
                            "      <th>EmployeeId</th>\n",
                            "      <th>Age</th>\n",
                            "      <th>Attrition</th>\n",
                            "      <th>BusinessTravel</th>\n",
                            "      <th>DailyRate</th>\n",
                            "      <th>Department</th>\n",
                            "      <th>DistanceFromHome</th>\n",
                            "      <th>Education</th>\n",
                            "      <th>EducationField</th>\n",
                            "      <th>EmployeeCount</th>\n",
                            "      <th>...</th>\n",
                            "      <th>RelationshipSatisfaction</th>\n",
                            "      <th>StandardHours</th>\n",
                            "      <th>StockOptionLevel</th>\n",
                            "      <th>TotalWorkingYears</th>\n",
                            "      <th>TrainingTimesLastYear</th>\n",
                            "      <th>WorkLifeBalance</th>\n",
                            "      <th>YearsAtCompany</th>\n",
                            "      <th>YearsInCurrentRole</th>\n",
                            "      <th>YearsSinceLastPromotion</th>\n",
                            "      <th>YearsWithCurrManager</th>\n",
                            "    </tr>\n",
                            "  </thead>\n",
                            "  <tbody>\n",
                            "    <tr>\n",
                            "      <th>0</th>\n",
                            "      <td>1</td>\n",
                            "      <td>38</td>\n",
                            "      <td>NaN</td>\n",
                            "      <td>Travel_Frequently</td>\n",
                            "      <td>1444</td>\n",
                            "      <td>Human Resources</td>\n",
                            "      <td>1</td>\n",
                            "      <td>4</td>\n",
                            "      <td>Other</td>\n",
                            "      <td>1</td>\n",
                            "      <td>...</td>\n",
                            "      <td>2</td>\n",
                            "      <td>80</td>\n",
                            "      <td>1</td>\n",
                            "      <td>7</td>\n",
                            "      <td>2</td>\n",
                            "      <td>3</td>\n",
                            "      <td>6</td>\n",
                            "      <td>2</td>\n",
                            "      <td>1</td>\n",
                            "      <td>2</td>\n",
                            "    </tr>\n",
                            "    <tr>\n",
                            "      <th>1</th>\n",
                            "      <td>2</td>\n",
                            "      <td>37</td>\n",
                            "      <td>1.0</td>\n",
                            "      <td>Travel_Rarely</td>\n",
                            "      <td>1141</td>\n",
                            "      <td>Research &amp; Development</td>\n",
                            "      <td>11</td>\n",
                            "      <td>2</td>\n",
                            "      <td>Medical</td>\n",
                            "      <td>1</td>\n",
                            "      <td>...</td>\n",
                            "      <td>1</td>\n",
                            "      <td>80</td>\n",
                            "      <td>0</td>\n",
                            "      <td>15</td>\n",
                            "      <td>2</td>\n",
                            "      <td>1</td>\n",
                            "      <td>1</td>\n",
                            "      <td>0</td>\n",
                            "      <td>0</td>\n",
                            "      <td>0</td>\n",
                            "    </tr>\n",
                            "    <tr>\n",
                            "      <th>2</th>\n",
                            "      <td>3</td>\n",
                            "      <td>51</td>\n",
                            "      <td>1.0</td>\n",
                            "      <td>Travel_Rarely</td>\n",
                            "      <td>1323</td>\n",
                            "      <td>Research &amp; Development</td>\n",
                            "      <td>4</td>\n",
                            "      <td>4</td>\n",
                            "      <td>Life Sciences</td>\n",
                            "      <td>1</td>\n",
                            "      <td>...</td>\n",
                            "      <td>3</td>\n",
                            "      <td>80</td>\n",
                            "      <td>3</td>\n",
                            "      <td>18</td>\n",
                            "      <td>2</td>\n",
                            "      <td>4</td>\n",
                            "      <td>10</td>\n",
                            "      <td>0</td>\n",
                            "      <td>2</td>\n",
                            "      <td>7</td>\n",
                            "    </tr>\n",
                            "    <tr>\n",
                            "      <th>3</th>\n",
                            "      <td>4</td>\n",
                            "      <td>42</td>\n",
                            "      <td>0.0</td>\n",
                            "      <td>Travel_Frequently</td>\n",
                            "      <td>555</td>\n",
                            "      <td>Sales</td>\n",
                            "      <td>26</td>\n",
                            "      <td>3</td>\n",
                            "      <td>Marketing</td>\n",
                            "      <td>1</td>\n",
                            "      <td>...</td>\n",
                            "      <td>4</td>\n",
                            "      <td>80</td>\n",
                            "      <td>1</td>\n",
                            "      <td>23</td>\n",
                            "      <td>2</td>\n",
                            "      <td>4</td>\n",
                            "      <td>20</td>\n",
                            "      <td>4</td>\n",
                            "      <td>4</td>\n",
                            "      <td>8</td>\n",
                            "    </tr>\n",
                            "    <tr>\n",
                            "      <th>4</th>\n",
                            "      <td>5</td>\n",
                            "      <td>40</td>\n",
                            "      <td>NaN</td>\n",
                            "      <td>Travel_Rarely</td>\n",
                            "      <td>1194</td>\n",
                            "      <td>Research &amp; Development</td>\n",
                            "      <td>2</td>\n",
                            "      <td>4</td>\n",
                            "      <td>Medical</td>\n",
                            "      <td>1</td>\n",
                            "      <td>...</td>\n",
                            "      <td>2</td>\n",
                            "      <td>80</td>\n",
                            "      <td>3</td>\n",
                            "      <td>20</td>\n",
                            "      <td>2</td>\n",
                            "      <td>3</td>\n",
                            "      <td>5</td>\n",
                            "      <td>3</td>\n",
                            "      <td>0</td>\n",
                            "      <td>2</td>\n",
                            "    </tr>\n",
                            "  </tbody>\n",
                            "</table>\n",
                            "<p>5 rows × 35 columns</p>\n",
                            "</div>"
                        ],
                        "text/plain": [
                            "   EmployeeId  Age  Attrition     BusinessTravel  DailyRate  \\\n",
                            "0           1   38        NaN  Travel_Frequently       1444   \n",
                            "1           2   37        1.0      Travel_Rarely       1141   \n",
                            "2           3   51        1.0      Travel_Rarely       1323   \n",
                            "3           4   42        0.0  Travel_Frequently        555   \n",
                            "4           5   40        NaN      Travel_Rarely       1194   \n",
                            "\n",
                            "               Department  DistanceFromHome  Education EducationField  \\\n",
                            "0         Human Resources                 1          4          Other   \n",
                            "1  Research & Development                11          2        Medical   \n",
                            "2  Research & Development                 4          4  Life Sciences   \n",
                            "3                   Sales                26          3      Marketing   \n",
                            "4  Research & Development                 2          4        Medical   \n",
                            "\n",
                            "   EmployeeCount  ...  RelationshipSatisfaction StandardHours  \\\n",
                            "0              1  ...                         2            80   \n",
                            "1              1  ...                         1            80   \n",
                            "2              1  ...                         3            80   \n",
                            "3              1  ...                         4            80   \n",
                            "4              1  ...                         2            80   \n",
                            "\n",
                            "   StockOptionLevel  TotalWorkingYears  TrainingTimesLastYear WorkLifeBalance  \\\n",
                            "0                 1                  7                      2               3   \n",
                            "1                 0                 15                      2               1   \n",
                            "2                 3                 18                      2               4   \n",
                            "3                 1                 23                      2               4   \n",
                            "4                 3                 20                      2               3   \n",
                            "\n",
                            "   YearsAtCompany YearsInCurrentRole  YearsSinceLastPromotion  \\\n",
                            "0               6                  2                        1   \n",
                            "1               1                  0                        0   \n",
                            "2              10                  0                        2   \n",
                            "3              20                  4                        4   \n",
                            "4               5                  3                        0   \n",
                            "\n",
                            "   YearsWithCurrManager  \n",
                            "0                     2  \n",
                            "1                     0  \n",
                            "2                     7  \n",
                            "3                     8  \n",
                            "4                     2  \n",
                            "\n",
                            "[5 rows x 35 columns]"
                        ]
                    },
                    "execution_count": 36,
                    "metadata": {},
                    "output_type": "execute_result"
                }
            ],
            "source": [
                "df = pd.read_csv('employee_data.csv')\n",
                "df.head()"
            ]
        },
        {
            "cell_type": "code",
            "execution_count": 3,
            "metadata": {},
            "outputs": [
                {
                    "name": "stdout",
                    "output_type": "stream",
                    "text": [
                        "<class 'pandas.core.frame.DataFrame'>\n",
                        "RangeIndex: 1470 entries, 0 to 1469\n",
                        "Data columns (total 35 columns):\n",
                        " #   Column                    Non-Null Count  Dtype  \n",
                        "---  ------                    --------------  -----  \n",
                        " 0   EmployeeId                1470 non-null   int64  \n",
                        " 1   Age                       1470 non-null   int64  \n",
                        " 2   Attrition                 1058 non-null   float64\n",
                        " 3   BusinessTravel            1470 non-null   object \n",
                        " 4   DailyRate                 1470 non-null   int64  \n",
                        " 5   Department                1470 non-null   object \n",
                        " 6   DistanceFromHome          1470 non-null   int64  \n",
                        " 7   Education                 1470 non-null   int64  \n",
                        " 8   EducationField            1470 non-null   object \n",
                        " 9   EmployeeCount             1470 non-null   int64  \n",
                        " 10  EnvironmentSatisfaction   1470 non-null   int64  \n",
                        " 11  Gender                    1470 non-null   object \n",
                        " 12  HourlyRate                1470 non-null   int64  \n",
                        " 13  JobInvolvement            1470 non-null   int64  \n",
                        " 14  JobLevel                  1470 non-null   int64  \n",
                        " 15  JobRole                   1470 non-null   object \n",
                        " 16  JobSatisfaction           1470 non-null   int64  \n",
                        " 17  MaritalStatus             1470 non-null   object \n",
                        " 18  MonthlyIncome             1470 non-null   int64  \n",
                        " 19  MonthlyRate               1470 non-null   int64  \n",
                        " 20  NumCompaniesWorked        1470 non-null   int64  \n",
                        " 21  Over18                    1470 non-null   object \n",
                        " 22  OverTime                  1470 non-null   object \n",
                        " 23  PercentSalaryHike         1470 non-null   int64  \n",
                        " 24  PerformanceRating         1470 non-null   int64  \n",
                        " 25  RelationshipSatisfaction  1470 non-null   int64  \n",
                        " 26  StandardHours             1470 non-null   int64  \n",
                        " 27  StockOptionLevel          1470 non-null   int64  \n",
                        " 28  TotalWorkingYears         1470 non-null   int64  \n",
                        " 29  TrainingTimesLastYear     1470 non-null   int64  \n",
                        " 30  WorkLifeBalance           1470 non-null   int64  \n",
                        " 31  YearsAtCompany            1470 non-null   int64  \n",
                        " 32  YearsInCurrentRole        1470 non-null   int64  \n",
                        " 33  YearsSinceLastPromotion   1470 non-null   int64  \n",
                        " 34  YearsWithCurrManager      1470 non-null   int64  \n",
                        "dtypes: float64(1), int64(26), object(8)\n",
                        "memory usage: 402.1+ KB\n"
                    ]
                }
            ],
            "source": [
                "df.info()"
            ]
        },
        {
            "cell_type": "code",
            "execution_count": 4,
            "metadata": {},
            "outputs": [
                {
                    "data": {
                        "text/plain": [
                            "EmployeeCount    1\n",
                            "Over18           1\n",
                            "StandardHours    1\n",
                            "dtype: int64"
                        ]
                    },
                    "execution_count": 4,
                    "metadata": {},
                    "output_type": "execute_result"
                }
            ],
            "source": [
                "df.nunique()[df.nunique() < 2]"
            ]
        },
        {
            "cell_type": "code",
            "execution_count": 5,
            "metadata": {},
            "outputs": [
                {
                    "data": {
                        "text/plain": [
                            "Index(['EmployeeId', 'Age', 'Attrition', 'BusinessTravel', 'DailyRate',\n",
                            "       'Department', 'DistanceFromHome', 'Education', 'EducationField',\n",
                            "       'EmployeeCount', 'EnvironmentSatisfaction', 'Gender', 'HourlyRate',\n",
                            "       'JobInvolvement', 'JobLevel', 'JobRole', 'JobSatisfaction',\n",
                            "       'MaritalStatus', 'MonthlyIncome', 'MonthlyRate', 'NumCompaniesWorked',\n",
                            "       'Over18', 'OverTime', 'PercentSalaryHike', 'PerformanceRating',\n",
                            "       'RelationshipSatisfaction', 'StandardHours', 'StockOptionLevel',\n",
                            "       'TotalWorkingYears', 'TrainingTimesLastYear', 'WorkLifeBalance',\n",
                            "       'YearsAtCompany', 'YearsInCurrentRole', 'YearsSinceLastPromotion',\n",
                            "       'YearsWithCurrManager'],\n",
                            "      dtype='object')"
                        ]
                    },
                    "execution_count": 5,
                    "metadata": {},
                    "output_type": "execute_result"
                }
            ],
            "source": [
                "df.columns"
            ]
        },
        {
            "cell_type": "code",
            "execution_count": 6,
            "metadata": {},
            "outputs": [],
            "source": [
                "unnecessary_features = ['EmployeeId', 'EmployeeCount', 'Over18', 'StandardHours']\n",
                "numerical_features = ['Age', 'DailyRate', 'DistanceFromHome', \n",
                "                      'HourlyRate', 'MonthlyIncome', 'MonthlyRate', \n",
                "                      'NumCompaniesWorked', 'PercentSalaryHike', 'TotalWorkingYears', \n",
                "                      'TrainingTimesLastYear', 'YearsAtCompany', 'YearsInCurrentRole', \n",
                "                      'YearsSinceLastPromotion', 'YearsWithCurrManager']\n",
                "categorical_features = ['BusinessTravel', \n",
                "                        'Department', 'Education', 'EducationField',\n",
                "                        'EnvironmentSatisfaction', 'Gender', 'JobInvolvement',\n",
                "                        'JobLevel', 'JobRole', 'JobSatisfaction', 'MaritalStatus', \n",
                "                        'OverTime', 'PerformanceRating', 'RelationshipSatisfaction', \n",
                "                        'StockOptionLevel', 'WorkLifeBalance']"
            ]
        },
        {
            "cell_type": "markdown",
            "metadata": {},
            "source": [
                "### Berdasarkan riset dan artikel scientific yang ada sebelumnya, terdapat beberapa faktor yang memungkinkan karyawan ingin *attrition*\n",
                "\n",
                "\n",
                "1. Hal Terkait Kompensasi: <br>MonthlyIncome, PercentSalaryHike, StockOptionLevel\n",
                "    \n",
                "2. Hal Terkait Individu: <br> Age, DistanceFromHome, Education, EducationField, Gender, JobInvolvement, JobRole, MaritalStatus, WorkLifeBalance\n",
                "\n",
                "3. Hal Terkait Perusahaan: <br>BusinessTravel, Department, EnvironmentSatisfaction, JobSatisfaction, OverTime, PerformanceRating, RelationshipSatisfaction\n",
                "\n",
                "4. Hal Terkait Perkembangan Karir: <br>NumCompaniesWorked, TotalWorkingYears, JobLevel, TrainingTimesLastYear, YearsAtCompany, YearsInCurrentRole, YearsSinceLastPromotion, YearsWithCurrManager\n",
                "\n",
                "\n",
                "Sumber bacaan:\n",
                "- [Together Platform](https://www.togetherplatform.com/blog/attrition-rate)\n",
                "- [Personio](https://www.personio.com/hr-lexicon/attrition-rate/) \n",
                "- [Linkedin Post - IBM HR Analystics](https://www.linkedin.com/pulse/ibm-hr-analytics-understanding-employee-data-christy/)"
            ]
        },
        {
            "cell_type": "code",
            "execution_count": 7,
            "metadata": {},
            "outputs": [],
            "source": [
                "compensation_matters = ['MonthlyIncome', 'PercentSalaryHike', 'StockOptionLevel']\n",
                "individuals_matters = ['Age', 'DistanceFromHome', 'Education', 'EducationField', \n",
                "                       'Gender', 'JobInvolvement', 'JobRole', 'MaritalStatus', \n",
                "                       'PerformanceRating', 'WorkLifeBalance']\n",
                "company_matters = ['BusinessTravel', 'Department', 'EnvironmentSatisfaction', \n",
                "                   'JobSatisfaction', 'OverTime', \n",
                "                   'RelationshipSatisfaction']\n",
                "carrer_growth_matters = ['NumCompaniesWorked', 'TotalWorkingYears', 'JobLevel', \n",
                "                         'TrainingTimesLastYear', 'YearsAtCompany', 'YearsInCurrentRole', \n",
                "                         'YearsSinceLastPromotion', 'YearsWithCurrManager']"
            ]
        },
        {
            "cell_type": "markdown",
            "metadata": {},
            "source": [
                "## Data Preparation / Preprocessing"
            ]
        },
        {
            "cell_type": "code",
            "execution_count": 8,
            "metadata": {},
            "outputs": [
                {
                    "name": "stdout",
                    "output_type": "stream",
                    "text": [
                        "<class 'pandas.core.frame.DataFrame'>\n",
                        "RangeIndex: 1470 entries, 0 to 1469\n",
                        "Data columns (total 31 columns):\n",
                        " #   Column                    Non-Null Count  Dtype   \n",
                        "---  ------                    --------------  -----   \n",
                        " 0   Age                       1470 non-null   float64 \n",
                        " 1   Attrition                 1058 non-null   float64 \n",
                        " 2   BusinessTravel            1470 non-null   category\n",
                        " 3   DailyRate                 1470 non-null   float64 \n",
                        " 4   Department                1470 non-null   category\n",
                        " 5   DistanceFromHome          1470 non-null   float64 \n",
                        " 6   Education                 1470 non-null   category\n",
                        " 7   EducationField            1470 non-null   category\n",
                        " 8   EnvironmentSatisfaction   1470 non-null   category\n",
                        " 9   Gender                    1470 non-null   category\n",
                        " 10  HourlyRate                1470 non-null   float64 \n",
                        " 11  JobInvolvement            1470 non-null   category\n",
                        " 12  JobLevel                  1470 non-null   category\n",
                        " 13  JobRole                   1470 non-null   category\n",
                        " 14  JobSatisfaction           1470 non-null   category\n",
                        " 15  MaritalStatus             1470 non-null   category\n",
                        " 16  MonthlyIncome             1470 non-null   float64 \n",
                        " 17  MonthlyRate               1470 non-null   float64 \n",
                        " 18  NumCompaniesWorked        1470 non-null   float64 \n",
                        " 19  OverTime                  1470 non-null   category\n",
                        " 20  PercentSalaryHike         1470 non-null   float64 \n",
                        " 21  PerformanceRating         1470 non-null   category\n",
                        " 22  RelationshipSatisfaction  1470 non-null   category\n",
                        " 23  StockOptionLevel          1470 non-null   category\n",
                        " 24  TotalWorkingYears         1470 non-null   float64 \n",
                        " 25  TrainingTimesLastYear     1470 non-null   float64 \n",
                        " 26  WorkLifeBalance           1470 non-null   category\n",
                        " 27  YearsAtCompany            1470 non-null   float64 \n",
                        " 28  YearsInCurrentRole        1470 non-null   float64 \n",
                        " 29  YearsSinceLastPromotion   1470 non-null   float64 \n",
                        " 30  YearsWithCurrManager      1470 non-null   float64 \n",
                        "dtypes: category(16), float64(15)\n",
                        "memory usage: 198.3 KB\n"
                    ]
                }
            ],
            "source": [
                "df = df.drop(unnecessary_features, axis=1)\n",
                "df[categorical_features] = df[categorical_features].astype('category')\n",
                "df[numerical_features] = df[numerical_features].astype('float64')\n",
                "df.info()"
            ]
        },
        {
            "cell_type": "code",
            "execution_count": 9,
            "metadata": {},
            "outputs": [
                {
                    "name": "stdout",
                    "output_type": "stream",
                    "text": [
                        "Total null data: 412\n",
                        "Total null data after dropping: 0\n",
                        "Total duplicate data: 0\n",
                        "Total data after dropping null data: 1058 rows & 31 columns\n"
                    ]
                }
            ],
            "source": [
                "print(\"Total null data:\", df.isna().sum().sum())\n",
                "df.dropna(inplace=True)\n",
                "print(\"Total null data after dropping:\", df.isna().sum().sum())\n",
                "print(\"Total duplicate data:\", df.duplicated().sum())\n",
                "print(\"Total data after dropping null data:\", df.shape[0], \"rows &\", df.shape[1], \"columns\") "
            ]
        },
        {
            "cell_type": "code",
            "execution_count": 10,
            "metadata": {},
            "outputs": [
                {
                    "name": "stdout",
                    "output_type": "stream",
                    "text": [
                        "BusinessTravel:\n",
                        "  Non-Travel: 0\n",
                        "  Travel_Frequently: 1\n",
                        "  Travel_Rarely: 2\n",
                        "\n",
                        "Department:\n",
                        "  Human Resources: 0\n",
                        "  Research & Development: 1\n",
                        "  Sales: 2\n",
                        "\n",
                        "Education:\n",
                        "  1: 0\n",
                        "  2: 1\n",
                        "  3: 2\n",
                        "  4: 3\n",
                        "  5: 4\n",
                        "\n",
                        "EducationField:\n",
                        "  Human Resources: 0\n",
                        "  Life Sciences: 1\n",
                        "  Marketing: 2\n",
                        "  Medical: 3\n",
                        "  Other: 4\n",
                        "  Technical Degree: 5\n",
                        "\n",
                        "EnvironmentSatisfaction:\n",
                        "  1: 0\n",
                        "  2: 1\n",
                        "  3: 2\n",
                        "  4: 3\n",
                        "\n",
                        "Gender:\n",
                        "  Female: 0\n",
                        "  Male: 1\n",
                        "\n",
                        "JobInvolvement:\n",
                        "  1: 0\n",
                        "  2: 1\n",
                        "  3: 2\n",
                        "  4: 3\n",
                        "\n",
                        "JobLevel:\n",
                        "  1: 0\n",
                        "  2: 1\n",
                        "  3: 2\n",
                        "  4: 3\n",
                        "  5: 4\n",
                        "\n",
                        "JobRole:\n",
                        "  Healthcare Representative: 0\n",
                        "  Human Resources: 1\n",
                        "  Laboratory Technician: 2\n",
                        "  Manager: 3\n",
                        "  Manufacturing Director: 4\n",
                        "  Research Director: 5\n",
                        "  Research Scientist: 6\n",
                        "  Sales Executive: 7\n",
                        "  Sales Representative: 8\n",
                        "\n",
                        "JobSatisfaction:\n",
                        "  1: 0\n",
                        "  2: 1\n",
                        "  3: 2\n",
                        "  4: 3\n",
                        "\n",
                        "MaritalStatus:\n",
                        "  Divorced: 0\n",
                        "  Married: 1\n",
                        "  Single: 2\n",
                        "\n",
                        "OverTime:\n",
                        "  No: 0\n",
                        "  Yes: 1\n",
                        "\n",
                        "PerformanceRating:\n",
                        "  3: 0\n",
                        "  4: 1\n",
                        "\n",
                        "RelationshipSatisfaction:\n",
                        "  1: 0\n",
                        "  2: 1\n",
                        "  3: 2\n",
                        "  4: 3\n",
                        "\n",
                        "StockOptionLevel:\n",
                        "  0: 0\n",
                        "  1: 1\n",
                        "  2: 2\n",
                        "  3: 3\n",
                        "\n",
                        "WorkLifeBalance:\n",
                        "  1: 0\n",
                        "  2: 1\n",
                        "  3: 2\n",
                        "  4: 3\n",
                        "\n"
                    ]
                }
            ],
            "source": [
                "le = LabelEncoder()\n",
                "for col in categorical_features:\n",
                "    if df[col].dtype == 'category':\n",
                "        df[col] = le.fit_transform(df[col])\n",
                "        label_dict = dict(zip(le.classes_, le.transform(le.classes_)))\n",
                "        print(f\"{col}:\")\n",
                "        for key, value in label_dict.items():\n",
                "            print(f\"  {key}: {value}\")\n",
                "        print(\"\")"
            ]
        },
        {
            "cell_type": "code",
            "execution_count": 11,
            "metadata": {},
            "outputs": [
                {
                    "data": {
                        "text/html": [
                            "<div>\n",
                            "<style scoped>\n",
                            "    .dataframe tbody tr th:only-of-type {\n",
                            "        vertical-align: middle;\n",
                            "    }\n",
                            "\n",
                            "    .dataframe tbody tr th {\n",
                            "        vertical-align: top;\n",
                            "    }\n",
                            "\n",
                            "    .dataframe thead th {\n",
                            "        text-align: right;\n",
                            "    }\n",
                            "</style>\n",
                            "<table border=\"1\" class=\"dataframe\">\n",
                            "  <thead>\n",
                            "    <tr style=\"text-align: right;\">\n",
                            "      <th></th>\n",
                            "      <th>Column Name</th>\n",
                            "      <th>P Values</th>\n",
                            "    </tr>\n",
                            "  </thead>\n",
                            "  <tbody>\n",
                            "    <tr>\n",
                            "      <th>1</th>\n",
                            "      <td>StockOptionLevel</td>\n",
                            "      <td>0.00000</td>\n",
                            "    </tr>\n",
                            "    <tr>\n",
                            "      <th>2</th>\n",
                            "      <td>EnvironmentSatisfaction</td>\n",
                            "      <td>0.00000</td>\n",
                            "    </tr>\n",
                            "    <tr>\n",
                            "      <th>3</th>\n",
                            "      <td>OverTime</td>\n",
                            "      <td>0.00000</td>\n",
                            "    </tr>\n",
                            "    <tr>\n",
                            "      <th>4</th>\n",
                            "      <td>YearsSinceLastPromotion</td>\n",
                            "      <td>0.00104</td>\n",
                            "    </tr>\n",
                            "    <tr>\n",
                            "      <th>5</th>\n",
                            "      <td>JobSatisfaction</td>\n",
                            "      <td>0.00113</td>\n",
                            "    </tr>\n",
                            "    <tr>\n",
                            "      <th>6</th>\n",
                            "      <td>TotalWorkingYears</td>\n",
                            "      <td>0.00371</td>\n",
                            "    </tr>\n",
                            "    <tr>\n",
                            "      <th>7</th>\n",
                            "      <td>NumCompaniesWorked</td>\n",
                            "      <td>0.00389</td>\n",
                            "    </tr>\n",
                            "    <tr>\n",
                            "      <th>8</th>\n",
                            "      <td>RelationshipSatisfaction</td>\n",
                            "      <td>0.00488</td>\n",
                            "    </tr>\n",
                            "    <tr>\n",
                            "      <th>9</th>\n",
                            "      <td>YearsWithCurrManager</td>\n",
                            "      <td>0.01276</td>\n",
                            "    </tr>\n",
                            "    <tr>\n",
                            "      <th>10</th>\n",
                            "      <td>YearsInCurrentRole</td>\n",
                            "      <td>0.02390</td>\n",
                            "    </tr>\n",
                            "    <tr>\n",
                            "      <th>11</th>\n",
                            "      <td>Department</td>\n",
                            "      <td>0.02584</td>\n",
                            "    </tr>\n",
                            "  </tbody>\n",
                            "</table>\n",
                            "</div>"
                        ],
                        "text/plain": [
                            "                 Column Name  P Values\n",
                            "1           StockOptionLevel   0.00000\n",
                            "2    EnvironmentSatisfaction   0.00000\n",
                            "3                   OverTime   0.00000\n",
                            "4    YearsSinceLastPromotion   0.00104\n",
                            "5            JobSatisfaction   0.00113\n",
                            "6          TotalWorkingYears   0.00371\n",
                            "7         NumCompaniesWorked   0.00389\n",
                            "8   RelationshipSatisfaction   0.00488\n",
                            "9       YearsWithCurrManager   0.01276\n",
                            "10        YearsInCurrentRole   0.02390\n",
                            "11                Department   0.02584"
                        ]
                    },
                    "execution_count": 11,
                    "metadata": {},
                    "output_type": "execute_result"
                }
            ],
            "source": [
                "all_matters = compensation_matters + company_matters + carrer_growth_matters\n",
                "column_name = ['Const'] + all_matters\n",
                "\n",
                "X_with_constant = sm.add_constant(df[all_matters].values)\n",
                "y = df['Attrition'].values\n",
                "model = sm.OLS(y, X_with_constant).fit()\n",
                "df_temp = pd.DataFrame({'Column Name': column_name, 'P Values': model.pvalues.round(5)})\\\n",
                "    .sort_values(by='P Values', ascending=True)\\\n",
                "    .reset_index(drop=True)\\\n",
                "    .drop(0)\n",
                "\n",
                "df_temp[df_temp['P Values']<0.05]"
            ]
        },
        {
            "cell_type": "code",
            "execution_count": 12,
            "metadata": {},
            "outputs": [],
            "source": [
                "initial_dataset = df.copy()\n",
                "scaler = MinMaxScaler()\n",
                "df[numerical_features] = scaler.fit_transform(df[numerical_features])\n"
            ]
        },
        {
            "cell_type": "code",
            "execution_count": 13,
            "metadata": {},
            "outputs": [],
            "source": [
                "X = df.drop('Attrition', axis=1)\n",
                "y = df['Attrition']"
            ]
        },
        {
            "cell_type": "code",
            "execution_count": 14,
            "metadata": {},
            "outputs": [],
            "source": [
                "sampler = SMOTE(random_state=42)\n",
                "X_resampled, y_resampled = sampler.fit_resample(X, y)\n",
                "X_train_resampled, X_test, y_train_resampled, y_test = train_test_split(X_resampled, y_resampled, test_size=0.2, random_state=42, stratify=y_resampled)"
            ]
        },
        {
            "cell_type": "markdown",
            "metadata": {},
            "source": [
                "## Modeling + Evaluation"
            ]
        },
        {
            "cell_type": "code",
            "execution_count": 15,
            "metadata": {},
            "outputs": [
                {
                    "data": {
                        "text/html": [
                            "<div>\n",
                            "<style scoped>\n",
                            "    .dataframe tbody tr th:only-of-type {\n",
                            "        vertical-align: middle;\n",
                            "    }\n",
                            "\n",
                            "    .dataframe tbody tr th {\n",
                            "        vertical-align: top;\n",
                            "    }\n",
                            "\n",
                            "    .dataframe thead th {\n",
                            "        text-align: right;\n",
                            "    }\n",
                            "</style>\n",
                            "<table border=\"1\" class=\"dataframe\">\n",
                            "  <thead>\n",
                            "    <tr style=\"text-align: right;\">\n",
                            "      <th></th>\n",
                            "      <th>column used</th>\n",
                            "      <th>precision</th>\n",
                            "      <th>recall</th>\n",
                            "      <th>f1</th>\n",
                            "      <th>accuracy</th>\n",
                            "    </tr>\n",
                            "  </thead>\n",
                            "  <tbody>\n",
                            "    <tr>\n",
                            "      <th>0</th>\n",
                            "      <td>1</td>\n",
                            "      <td>0.650943</td>\n",
                            "      <td>0.784091</td>\n",
                            "      <td>0.711340</td>\n",
                            "      <td>0.681818</td>\n",
                            "    </tr>\n",
                            "    <tr>\n",
                            "      <th>1</th>\n",
                            "      <td>2</td>\n",
                            "      <td>0.674419</td>\n",
                            "      <td>0.659091</td>\n",
                            "      <td>0.666667</td>\n",
                            "      <td>0.670455</td>\n",
                            "    </tr>\n",
                            "    <tr>\n",
                            "      <th>2</th>\n",
                            "      <td>3</td>\n",
                            "      <td>0.693878</td>\n",
                            "      <td>0.772727</td>\n",
                            "      <td>0.731183</td>\n",
                            "      <td>0.715909</td>\n",
                            "    </tr>\n",
                            "    <tr>\n",
                            "      <th>3</th>\n",
                            "      <td>4</td>\n",
                            "      <td>0.790419</td>\n",
                            "      <td>0.750000</td>\n",
                            "      <td>0.769679</td>\n",
                            "      <td>0.775568</td>\n",
                            "    </tr>\n",
                            "    <tr>\n",
                            "      <th>4</th>\n",
                            "      <td>5</td>\n",
                            "      <td>0.845238</td>\n",
                            "      <td>0.806818</td>\n",
                            "      <td>0.825581</td>\n",
                            "      <td>0.829545</td>\n",
                            "    </tr>\n",
                            "    <tr>\n",
                            "      <th>5</th>\n",
                            "      <td>6</td>\n",
                            "      <td>0.862069</td>\n",
                            "      <td>0.852273</td>\n",
                            "      <td>0.857143</td>\n",
                            "      <td>0.857955</td>\n",
                            "    </tr>\n",
                            "    <tr>\n",
                            "      <th>6</th>\n",
                            "      <td>7</td>\n",
                            "      <td>0.858757</td>\n",
                            "      <td>0.863636</td>\n",
                            "      <td>0.861190</td>\n",
                            "      <td>0.860795</td>\n",
                            "    </tr>\n",
                            "    <tr>\n",
                            "      <th>7</th>\n",
                            "      <td>8</td>\n",
                            "      <td>0.877095</td>\n",
                            "      <td>0.892045</td>\n",
                            "      <td>0.884507</td>\n",
                            "      <td>0.883523</td>\n",
                            "    </tr>\n",
                            "    <tr>\n",
                            "      <th>8</th>\n",
                            "      <td>9</td>\n",
                            "      <td>0.889503</td>\n",
                            "      <td>0.914773</td>\n",
                            "      <td>0.901961</td>\n",
                            "      <td>0.900568</td>\n",
                            "    </tr>\n",
                            "    <tr>\n",
                            "      <th>9</th>\n",
                            "      <td>10</td>\n",
                            "      <td>0.879781</td>\n",
                            "      <td>0.914773</td>\n",
                            "      <td>0.896936</td>\n",
                            "      <td>0.894886</td>\n",
                            "    </tr>\n",
                            "    <tr>\n",
                            "      <th>10</th>\n",
                            "      <td>11</td>\n",
                            "      <td>0.897727</td>\n",
                            "      <td>0.897727</td>\n",
                            "      <td>0.897727</td>\n",
                            "      <td>0.897727</td>\n",
                            "    </tr>\n",
                            "  </tbody>\n",
                            "</table>\n",
                            "</div>"
                        ],
                        "text/plain": [
                            "    column used  precision    recall        f1  accuracy\n",
                            "0             1   0.650943  0.784091  0.711340  0.681818\n",
                            "1             2   0.674419  0.659091  0.666667  0.670455\n",
                            "2             3   0.693878  0.772727  0.731183  0.715909\n",
                            "3             4   0.790419  0.750000  0.769679  0.775568\n",
                            "4             5   0.845238  0.806818  0.825581  0.829545\n",
                            "5             6   0.862069  0.852273  0.857143  0.857955\n",
                            "6             7   0.858757  0.863636  0.861190  0.860795\n",
                            "7             8   0.877095  0.892045  0.884507  0.883523\n",
                            "8             9   0.889503  0.914773  0.901961  0.900568\n",
                            "9            10   0.879781  0.914773  0.896936  0.894886\n",
                            "10           11   0.897727  0.897727  0.897727  0.897727"
                        ]
                    },
                    "execution_count": 15,
                    "metadata": {},
                    "output_type": "execute_result"
                }
            ],
            "source": [
                "list_precision = []\n",
                "list_recall = []\n",
                "list_f1 = []\n",
                "list_accuracy = []\n",
                "list_idx = []\n",
                "model_saved = []\n",
                "\n",
                "for idx, mat in enumerate(df_temp[df_temp['P Values']<0.05]['Column Name'].values):\n",
                "    used_matters = df_temp[df_temp['P Values']<0.05]['Column Name'].values[:idx+1]\n",
                "    algo = XGBClassifier(random_state=42, objective='binary:logistic',\n",
                "                        # scale_pos_weight=y.value_counts()[0]/y.value_counts()[1],\n",
                "                        )\n",
                "    # algo = RandomForestClassifier(random_state=42)\n",
                "\n",
                "    algo.fit(X_train_resampled[used_matters], y_train_resampled)\n",
                "    y_pred = algo.predict(X_test[used_matters])\n",
                "    precision = precision_score(y_test, y_pred)\n",
                "    recall = recall_score(y_test, y_pred)\n",
                "    f1 = f1_score(y_test, y_pred)\n",
                "    accuracy = accuracy_score(y_test, y_pred)\n",
                "    list_precision.append(precision)\n",
                "    list_recall.append(recall)\n",
                "    list_f1.append(f1)\n",
                "    list_accuracy.append(accuracy)\n",
                "    list_idx.append(idx+1)\n",
                "    model_saved.append(algo)\n",
                "    \n",
                "df_result = pd.DataFrame({\n",
                "    'column used': list_idx,\n",
                "    'precision': list_precision,\n",
                "    'recall': list_recall,\n",
                "    'f1': list_f1,\n",
                "    'accuracy': list_accuracy,\n",
                "})\n",
                "\n",
                "\n",
                "df_result.head(15)"
            ]
        },
        {
            "cell_type": "code",
            "execution_count": 16,
            "metadata": {},
            "outputs": [
                {
                    "data": {
                        "text/plain": [
                            "8"
                        ]
                    },
                    "execution_count": 16,
                    "metadata": {},
                    "output_type": "execute_result"
                }
            ],
            "source": [
                "best_idx = df_result['f1'].idxmax()\n",
                "best_idx"
            ]
        },
        {
            "cell_type": "code",
            "execution_count": 17,
            "metadata": {},
            "outputs": [
                {
                    "data": {
                        "text/plain": [
                            "array(['StockOptionLevel', 'EnvironmentSatisfaction', 'OverTime',\n",
                            "       'YearsSinceLastPromotion', 'JobSatisfaction', 'TotalWorkingYears',\n",
                            "       'NumCompaniesWorked', 'RelationshipSatisfaction',\n",
                            "       'YearsWithCurrManager'], dtype=object)"
                        ]
                    },
                    "execution_count": 17,
                    "metadata": {},
                    "output_type": "execute_result"
                }
            ],
            "source": [
                "used_features = df_temp[df_temp['P Values']<0.05]['Column Name'].values[:best_idx+1]\n",
                "used_features"
            ]
        },
        {
            "cell_type": "code",
            "execution_count": 18,
            "metadata": {},
            "outputs": [
                {
                    "data": {
                        "text/plain": [
                            "['YearsSinceLastPromotion',\n",
                            " 'TotalWorkingYears',\n",
                            " 'NumCompaniesWorked',\n",
                            " 'YearsWithCurrManager']"
                        ]
                    },
                    "execution_count": 18,
                    "metadata": {},
                    "output_type": "execute_result"
                }
            ],
            "source": [
                "used_numeric_features = [i for i in used_features if i in numerical_features]\n",
                "used_numeric_features"
            ]
        },
        {
            "cell_type": "code",
            "execution_count": 19,
            "metadata": {},
            "outputs": [],
            "source": [
                "fixed_scaler = MinMaxScaler()\n",
                "fixed_scaler.fit(initial_dataset[used_numeric_features])\n",
                "\n",
                "with open('./model/scaler.pkl', 'wb') as e:\n",
                "    pickle.dump(fixed_scaler, e)\n",
                "\n",
                "best_model = model_saved[best_idx]\n",
                "\n",
                "with open('./model/model.pkl', 'wb') as f:\n",
                "    pickle.dump(best_model, f)"
            ]
        },
        {
            "cell_type": "code",
            "execution_count": 21,
            "metadata": {},
            "outputs": [
                {
                    "data": {
                        "text/plain": [
                            "(0.9035812672176309, 0.9669187145557656)"
                        ]
                    },
                    "execution_count": 21,
                    "metadata": {},
                    "output_type": "execute_result"
                }
            ],
            "source": [
                "scaler = pickle.load(open('./model/scaler.pkl', 'rb'))\n",
                "model = pickle.load(open('./model/model.pkl', 'rb'))\n",
                "\n",
                "initial_dataset[used_numeric_features] = scaler.transform(initial_dataset[used_numeric_features])\n",
                "X = initial_dataset.drop('Attrition', axis=1)\n",
                "y = initial_dataset['Attrition']\n",
                "\n",
                "y_pred = model.predict(X[used_features])\n",
                "y_pred_proba = model.predict_proba(X[used_features])[:, 1]\n",
                "f1 = f1_score(y, y_pred)\n",
                "accuracy = accuracy_score(y, y_pred)\n",
                "\n",
                "f1, accuracy"
            ]
        },
        {
            "cell_type": "code",
            "execution_count": 34,
            "metadata": {},
            "outputs": [
                {
                    "data": {
                        "text/plain": [
                            "(np.int64(0), np.float32(0.9988574))"
                        ]
                    },
                    "execution_count": 34,
                    "metadata": {},
                    "output_type": "execute_result"
                }
            ],
            "source": [
                "y_pred[2], model.predict_proba(X[used_features])[2, y_pred[2]]"
            ]
        }
    ],
    "metadata": {
        "kernelspec": {
            "display_name": "MainCuda",
            "language": "python",
            "name": "python3"
        },
        "language_info": {
            "codemirror_mode": {
                "name": "ipython",
                "version": 3
            },
            "file_extension": ".py",
            "mimetype": "text/x-python",
            "name": "python",
            "nbconvert_exporter": "python",
            "pygments_lexer": "ipython3",
            "version": "3.12.9"
        },
        "orig_nbformat": 4
    },
    "nbformat": 4,
    "nbformat_minor": 2
}
